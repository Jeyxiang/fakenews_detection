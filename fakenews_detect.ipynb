{
 "cells": [
  {
   "attachments": {},
   "cell_type": "markdown",
   "metadata": {},
   "source": [
    "# Fake news detector \n",
    "Link to dataset: https://www.kaggle.com/datasets/clmentbisaillon/fake-and-real-news-dataset "
   ]
  },
  {
   "cell_type": "code",
   "execution_count": 1,
   "metadata": {},
   "outputs": [],
   "source": [
    "import numpy as np\n",
    "import pandas as pd\n",
    "import matplotlib.pyplot as plt\n",
    "import seaborn as sns\n",
    "import tensorflow as tf\n",
    "from datetime import datetime\n",
    "from sklearn import *\n",
    "from tensorflow.keras.layers.experimental.preprocessing import TextVectorization"
   ]
  },
  {
   "attachments": {},
   "cell_type": "markdown",
   "metadata": {},
   "source": [
    "## Data preprocessing"
   ]
  },
  {
   "cell_type": "code",
   "execution_count": 2,
   "metadata": {},
   "outputs": [],
   "source": [
    "fake_df = pd.read_csv('archive/Fake.csv')\n",
    "true_df = pd.read_csv('archive/True.csv')"
   ]
  },
  {
   "cell_type": "code",
   "execution_count": 3,
   "metadata": {},
   "outputs": [
    {
     "data": {
      "text/html": [
       "<div>\n",
       "<style scoped>\n",
       "    .dataframe tbody tr th:only-of-type {\n",
       "        vertical-align: middle;\n",
       "    }\n",
       "\n",
       "    .dataframe tbody tr th {\n",
       "        vertical-align: top;\n",
       "    }\n",
       "\n",
       "    .dataframe thead th {\n",
       "        text-align: right;\n",
       "    }\n",
       "</style>\n",
       "<table border=\"1\" class=\"dataframe\">\n",
       "  <thead>\n",
       "    <tr style=\"text-align: right;\">\n",
       "      <th></th>\n",
       "      <th>title</th>\n",
       "      <th>text</th>\n",
       "      <th>subject</th>\n",
       "      <th>date</th>\n",
       "    </tr>\n",
       "  </thead>\n",
       "  <tbody>\n",
       "    <tr>\n",
       "      <th>0</th>\n",
       "      <td>Donald Trump Sends Out Embarrassing New Year’...</td>\n",
       "      <td>Donald Trump just couldn t wish all Americans ...</td>\n",
       "      <td>News</td>\n",
       "      <td>December 31, 2017</td>\n",
       "    </tr>\n",
       "    <tr>\n",
       "      <th>1</th>\n",
       "      <td>Drunk Bragging Trump Staffer Started Russian ...</td>\n",
       "      <td>House Intelligence Committee Chairman Devin Nu...</td>\n",
       "      <td>News</td>\n",
       "      <td>December 31, 2017</td>\n",
       "    </tr>\n",
       "    <tr>\n",
       "      <th>2</th>\n",
       "      <td>Sheriff David Clarke Becomes An Internet Joke...</td>\n",
       "      <td>On Friday, it was revealed that former Milwauk...</td>\n",
       "      <td>News</td>\n",
       "      <td>December 30, 2017</td>\n",
       "    </tr>\n",
       "    <tr>\n",
       "      <th>3</th>\n",
       "      <td>Trump Is So Obsessed He Even Has Obama’s Name...</td>\n",
       "      <td>On Christmas day, Donald Trump announced that ...</td>\n",
       "      <td>News</td>\n",
       "      <td>December 29, 2017</td>\n",
       "    </tr>\n",
       "    <tr>\n",
       "      <th>4</th>\n",
       "      <td>Pope Francis Just Called Out Donald Trump Dur...</td>\n",
       "      <td>Pope Francis used his annual Christmas Day mes...</td>\n",
       "      <td>News</td>\n",
       "      <td>December 25, 2017</td>\n",
       "    </tr>\n",
       "  </tbody>\n",
       "</table>\n",
       "</div>"
      ],
      "text/plain": [
       "                                               title  \\\n",
       "0   Donald Trump Sends Out Embarrassing New Year’...   \n",
       "1   Drunk Bragging Trump Staffer Started Russian ...   \n",
       "2   Sheriff David Clarke Becomes An Internet Joke...   \n",
       "3   Trump Is So Obsessed He Even Has Obama’s Name...   \n",
       "4   Pope Francis Just Called Out Donald Trump Dur...   \n",
       "\n",
       "                                                text subject  \\\n",
       "0  Donald Trump just couldn t wish all Americans ...    News   \n",
       "1  House Intelligence Committee Chairman Devin Nu...    News   \n",
       "2  On Friday, it was revealed that former Milwauk...    News   \n",
       "3  On Christmas day, Donald Trump announced that ...    News   \n",
       "4  Pope Francis used his annual Christmas Day mes...    News   \n",
       "\n",
       "                date  \n",
       "0  December 31, 2017  \n",
       "1  December 31, 2017  \n",
       "2  December 30, 2017  \n",
       "3  December 29, 2017  \n",
       "4  December 25, 2017  "
      ]
     },
     "execution_count": 3,
     "metadata": {},
     "output_type": "execute_result"
    }
   ],
   "source": [
    "fake_df.head()"
   ]
  },
  {
   "cell_type": "code",
   "execution_count": 4,
   "metadata": {},
   "outputs": [
    {
     "name": "stdout",
     "output_type": "stream",
     "text": [
      "number of fake news: 23481\n",
      "number of real news: 21417\n"
     ]
    }
   ],
   "source": [
    "# Check for imbalance data\n",
    "\n",
    "print(\"number of fake news:\",len(fake_df))\n",
    "print(\"number of real news:\",len(true_df))"
   ]
  },
  {
   "cell_type": "code",
   "execution_count": 5,
   "metadata": {},
   "outputs": [],
   "source": [
    "fake_df['authenticity'] = 1\n",
    "true_df['authenticity'] = 0"
   ]
  },
  {
   "cell_type": "code",
   "execution_count": 6,
   "metadata": {},
   "outputs": [
    {
     "data": {
      "text/html": [
       "<div>\n",
       "<style scoped>\n",
       "    .dataframe tbody tr th:only-of-type {\n",
       "        vertical-align: middle;\n",
       "    }\n",
       "\n",
       "    .dataframe tbody tr th {\n",
       "        vertical-align: top;\n",
       "    }\n",
       "\n",
       "    .dataframe thead th {\n",
       "        text-align: right;\n",
       "    }\n",
       "</style>\n",
       "<table border=\"1\" class=\"dataframe\">\n",
       "  <thead>\n",
       "    <tr style=\"text-align: right;\">\n",
       "      <th></th>\n",
       "      <th>title</th>\n",
       "      <th>text</th>\n",
       "      <th>subject</th>\n",
       "      <th>date</th>\n",
       "      <th>authenticity</th>\n",
       "    </tr>\n",
       "  </thead>\n",
       "  <tbody>\n",
       "    <tr>\n",
       "      <th>288</th>\n",
       "      <td>Senate votes to pursue tax bill negotiations w...</td>\n",
       "      <td>WASHINGTON (Reuters) - U.S. Senate Republicans...</td>\n",
       "      <td>politicsNews</td>\n",
       "      <td>December 6, 2017</td>\n",
       "      <td>0</td>\n",
       "    </tr>\n",
       "    <tr>\n",
       "      <th>5068</th>\n",
       "      <td>Trump to meet with business leaders on infrast...</td>\n",
       "      <td>WASHINGTON (Reuters) - President Donald Trump ...</td>\n",
       "      <td>politicsNews</td>\n",
       "      <td>March 8, 2017</td>\n",
       "      <td>0</td>\n",
       "    </tr>\n",
       "    <tr>\n",
       "      <th>6702</th>\n",
       "      <td>Polls Show Millennials Hate Trump, Would Over...</td>\n",
       "      <td>The notion that millennials are stupid, spoile...</td>\n",
       "      <td>News</td>\n",
       "      <td>April 25, 2016</td>\n",
       "      <td>1</td>\n",
       "    </tr>\n",
       "    <tr>\n",
       "      <th>9830</th>\n",
       "      <td>WATCH: DESPERATE FOR RATINGS, Megyn Kelly Goes...</td>\n",
       "      <td>Ahead of the launch of her daily morning show,...</td>\n",
       "      <td>politics</td>\n",
       "      <td>Sep 24, 2017</td>\n",
       "      <td>1</td>\n",
       "    </tr>\n",
       "    <tr>\n",
       "      <th>12059</th>\n",
       "      <td>MUST WATCH: Kellyanne Conway PUNCHES BACK Afte...</td>\n",
       "      <td>Kellyanne Conway s response to Williams  criti...</td>\n",
       "      <td>politics</td>\n",
       "      <td>Dec 27, 2016</td>\n",
       "      <td>1</td>\n",
       "    </tr>\n",
       "    <tr>\n",
       "      <th>22909</th>\n",
       "      <td>Trump’s ‘Wag the Dog’ Moment</td>\n",
       "      <td>21st Century Wire says Robert Parry, best know...</td>\n",
       "      <td>Middle-east</td>\n",
       "      <td>April 11, 2017</td>\n",
       "      <td>1</td>\n",
       "    </tr>\n",
       "    <tr>\n",
       "      <th>15288</th>\n",
       "      <td>HOW LEFT- LEANING GOOGLE’S SECRET DECISIONS CO...</td>\n",
       "      <td>America s next president could be eased into o...</td>\n",
       "      <td>politics</td>\n",
       "      <td>Aug 23, 2015</td>\n",
       "      <td>1</td>\n",
       "    </tr>\n",
       "    <tr>\n",
       "      <th>16602</th>\n",
       "      <td>South Africa's Zuma asks court to reject call ...</td>\n",
       "      <td>PRETORIA (Reuters) - South African President J...</td>\n",
       "      <td>worldnews</td>\n",
       "      <td>October 24, 2017</td>\n",
       "      <td>0</td>\n",
       "    </tr>\n",
       "    <tr>\n",
       "      <th>8457</th>\n",
       "      <td>North Carolina asks Supreme Court to reinstate...</td>\n",
       "      <td>WASHINGTON (Reuters) - North Carolina on Monda...</td>\n",
       "      <td>politicsNews</td>\n",
       "      <td>August 15, 2016</td>\n",
       "      <td>0</td>\n",
       "    </tr>\n",
       "    <tr>\n",
       "      <th>11151</th>\n",
       "      <td>EPA actions in Flint water crisis to be examin...</td>\n",
       "      <td>WASHINGTON (Reuters) - President Barack Obama ...</td>\n",
       "      <td>politicsNews</td>\n",
       "      <td>January 21, 2016</td>\n",
       "      <td>0</td>\n",
       "    </tr>\n",
       "  </tbody>\n",
       "</table>\n",
       "</div>"
      ],
      "text/plain": [
       "                                                   title  \\\n",
       "288    Senate votes to pursue tax bill negotiations w...   \n",
       "5068   Trump to meet with business leaders on infrast...   \n",
       "6702    Polls Show Millennials Hate Trump, Would Over...   \n",
       "9830   WATCH: DESPERATE FOR RATINGS, Megyn Kelly Goes...   \n",
       "12059  MUST WATCH: Kellyanne Conway PUNCHES BACK Afte...   \n",
       "22909                       Trump’s ‘Wag the Dog’ Moment   \n",
       "15288  HOW LEFT- LEANING GOOGLE’S SECRET DECISIONS CO...   \n",
       "16602  South Africa's Zuma asks court to reject call ...   \n",
       "8457   North Carolina asks Supreme Court to reinstate...   \n",
       "11151  EPA actions in Flint water crisis to be examin...   \n",
       "\n",
       "                                                    text       subject  \\\n",
       "288    WASHINGTON (Reuters) - U.S. Senate Republicans...  politicsNews   \n",
       "5068   WASHINGTON (Reuters) - President Donald Trump ...  politicsNews   \n",
       "6702   The notion that millennials are stupid, spoile...          News   \n",
       "9830   Ahead of the launch of her daily morning show,...      politics   \n",
       "12059  Kellyanne Conway s response to Williams  criti...      politics   \n",
       "22909  21st Century Wire says Robert Parry, best know...   Middle-east   \n",
       "15288  America s next president could be eased into o...      politics   \n",
       "16602  PRETORIA (Reuters) - South African President J...     worldnews   \n",
       "8457   WASHINGTON (Reuters) - North Carolina on Monda...  politicsNews   \n",
       "11151  WASHINGTON (Reuters) - President Barack Obama ...  politicsNews   \n",
       "\n",
       "                    date  authenticity  \n",
       "288    December 6, 2017              0  \n",
       "5068      March 8, 2017              0  \n",
       "6702      April 25, 2016             1  \n",
       "9830        Sep 24, 2017             1  \n",
       "12059       Dec 27, 2016             1  \n",
       "22909     April 11, 2017             1  \n",
       "15288       Aug 23, 2015             1  \n",
       "16602  October 24, 2017              0  \n",
       "8457    August 15, 2016              0  \n",
       "11151  January 21, 2016              0  "
      ]
     },
     "execution_count": 6,
     "metadata": {},
     "output_type": "execute_result"
    }
   ],
   "source": [
    "news_df = pd.concat([fake_df, true_df])\n",
    "\n",
    "news_df.sample(10)"
   ]
  },
  {
   "cell_type": "code",
   "execution_count": 7,
   "metadata": {},
   "outputs": [
    {
     "name": "stdout",
     "output_type": "stream",
     "text": [
      "<class 'pandas.core.frame.DataFrame'>\n",
      "Int64Index: 44898 entries, 0 to 21416\n",
      "Data columns (total 5 columns):\n",
      " #   Column        Non-Null Count  Dtype \n",
      "---  ------        --------------  ----- \n",
      " 0   title         44898 non-null  object\n",
      " 1   text          44898 non-null  object\n",
      " 2   subject       44898 non-null  object\n",
      " 3   date          44898 non-null  object\n",
      " 4   authenticity  44898 non-null  int64 \n",
      "dtypes: int64(1), object(4)\n",
      "memory usage: 2.1+ MB\n"
     ]
    }
   ],
   "source": [
    "news_df.info()"
   ]
  },
  {
   "cell_type": "code",
   "execution_count": 8,
   "metadata": {},
   "outputs": [
    {
     "data": {
      "text/plain": [
       "<AxesSubplot:xlabel='authenticity', ylabel='count'>"
      ]
     },
     "execution_count": 8,
     "metadata": {},
     "output_type": "execute_result"
    },
    {
     "data": {
      "image/png": "[encoded data removed]",
      "text/plain": [
       "<Figure size 640x480 with 1 Axes>"
      ]
     },
     "metadata": {},
     "output_type": "display_data"
    }
   ],
   "source": [
    "sns.countplot(x='authenticity', data=news_df)"
   ]
  },
  {
   "cell_type": "code",
   "execution_count": 8,
   "metadata": {},
   "outputs": [
    {
     "data": {
      "text/html": [
       "<div>\n",
       "<style scoped>\n",
       "    .dataframe tbody tr th:only-of-type {\n",
       "        vertical-align: middle;\n",
       "    }\n",
       "\n",
       "    .dataframe tbody tr th {\n",
       "        vertical-align: top;\n",
       "    }\n",
       "\n",
       "    .dataframe thead th {\n",
       "        text-align: right;\n",
       "    }\n",
       "</style>\n",
       "<table border=\"1\" class=\"dataframe\">\n",
       "  <thead>\n",
       "    <tr style=\"text-align: right;\">\n",
       "      <th></th>\n",
       "      <th>title</th>\n",
       "      <th>text</th>\n",
       "      <th>subject</th>\n",
       "      <th>date</th>\n",
       "      <th>authenticity</th>\n",
       "      <th>Year</th>\n",
       "      <th>Month</th>\n",
       "    </tr>\n",
       "  </thead>\n",
       "  <tbody>\n",
       "    <tr>\n",
       "      <th>0</th>\n",
       "      <td>Donald Trump Sends Out Embarrassing New Year’...</td>\n",
       "      <td>Donald Trump just couldn t wish all Americans ...</td>\n",
       "      <td>News</td>\n",
       "      <td>2017-12-31</td>\n",
       "      <td>1</td>\n",
       "      <td>2017.0</td>\n",
       "      <td>12.0</td>\n",
       "    </tr>\n",
       "    <tr>\n",
       "      <th>1</th>\n",
       "      <td>Drunk Bragging Trump Staffer Started Russian ...</td>\n",
       "      <td>House Intelligence Committee Chairman Devin Nu...</td>\n",
       "      <td>News</td>\n",
       "      <td>2017-12-31</td>\n",
       "      <td>1</td>\n",
       "      <td>2017.0</td>\n",
       "      <td>12.0</td>\n",
       "    </tr>\n",
       "    <tr>\n",
       "      <th>2</th>\n",
       "      <td>Sheriff David Clarke Becomes An Internet Joke...</td>\n",
       "      <td>On Friday, it was revealed that former Milwauk...</td>\n",
       "      <td>News</td>\n",
       "      <td>2017-12-30</td>\n",
       "      <td>1</td>\n",
       "      <td>2017.0</td>\n",
       "      <td>12.0</td>\n",
       "    </tr>\n",
       "    <tr>\n",
       "      <th>3</th>\n",
       "      <td>Trump Is So Obsessed He Even Has Obama’s Name...</td>\n",
       "      <td>On Christmas day, Donald Trump announced that ...</td>\n",
       "      <td>News</td>\n",
       "      <td>2017-12-29</td>\n",
       "      <td>1</td>\n",
       "      <td>2017.0</td>\n",
       "      <td>12.0</td>\n",
       "    </tr>\n",
       "    <tr>\n",
       "      <th>4</th>\n",
       "      <td>Pope Francis Just Called Out Donald Trump Dur...</td>\n",
       "      <td>Pope Francis used his annual Christmas Day mes...</td>\n",
       "      <td>News</td>\n",
       "      <td>2017-12-25</td>\n",
       "      <td>1</td>\n",
       "      <td>2017.0</td>\n",
       "      <td>12.0</td>\n",
       "    </tr>\n",
       "  </tbody>\n",
       "</table>\n",
       "</div>"
      ],
      "text/plain": [
       "                                               title  \\\n",
       "0   Donald Trump Sends Out Embarrassing New Year’...   \n",
       "1   Drunk Bragging Trump Staffer Started Russian ...   \n",
       "2   Sheriff David Clarke Becomes An Internet Joke...   \n",
       "3   Trump Is So Obsessed He Even Has Obama’s Name...   \n",
       "4   Pope Francis Just Called Out Donald Trump Dur...   \n",
       "\n",
       "                                                text subject       date  \\\n",
       "0  Donald Trump just couldn t wish all Americans ...    News 2017-12-31   \n",
       "1  House Intelligence Committee Chairman Devin Nu...    News 2017-12-31   \n",
       "2  On Friday, it was revealed that former Milwauk...    News 2017-12-30   \n",
       "3  On Christmas day, Donald Trump announced that ...    News 2017-12-29   \n",
       "4  Pope Francis used his annual Christmas Day mes...    News 2017-12-25   \n",
       "\n",
       "   authenticity    Year  Month  \n",
       "0             1  2017.0   12.0  \n",
       "1             1  2017.0   12.0  \n",
       "2             1  2017.0   12.0  \n",
       "3             1  2017.0   12.0  \n",
       "4             1  2017.0   12.0  "
      ]
     },
     "execution_count": 8,
     "metadata": {},
     "output_type": "execute_result"
    }
   ],
   "source": [
    "news_df['date'] = pd.to_datetime(news_df['date'], errors='coerce') # If 'coerce', then invalid parsing will be set as NaT.\n",
    "news_df['Year'] = news_df['date'].dt.year\n",
    "news_df['Month'] = news_df['date'].dt.month\n",
    "\n",
    "news_df.head()"
   ]
  },
  {
   "cell_type": "code",
   "execution_count": 8,
   "metadata": {},
   "outputs": [],
   "source": [
    "# combining the title and text column and drop title column\n",
    "news_df['text'] = news_df['title'] + news_df['text']\n",
    "news_df.drop(labels=['title'], axis=1, inplace=True)"
   ]
  },
  {
   "cell_type": "code",
   "execution_count": 9,
   "metadata": {},
   "outputs": [
    {
     "data": {
      "text/html": [
       "<div>\n",
       "<style scoped>\n",
       "    .dataframe tbody tr th:only-of-type {\n",
       "        vertical-align: middle;\n",
       "    }\n",
       "\n",
       "    .dataframe tbody tr th {\n",
       "        vertical-align: top;\n",
       "    }\n",
       "\n",
       "    .dataframe thead th {\n",
       "        text-align: right;\n",
       "    }\n",
       "</style>\n",
       "<table border=\"1\" class=\"dataframe\">\n",
       "  <thead>\n",
       "    <tr style=\"text-align: right;\">\n",
       "      <th></th>\n",
       "      <th>text</th>\n",
       "      <th>authenticity</th>\n",
       "    </tr>\n",
       "  </thead>\n",
       "  <tbody>\n",
       "    <tr>\n",
       "      <th>0</th>\n",
       "      <td>Donald Trump Sends Out Embarrassing New Year’...</td>\n",
       "      <td>1</td>\n",
       "    </tr>\n",
       "    <tr>\n",
       "      <th>1</th>\n",
       "      <td>Drunk Bragging Trump Staffer Started Russian ...</td>\n",
       "      <td>1</td>\n",
       "    </tr>\n",
       "    <tr>\n",
       "      <th>2</th>\n",
       "      <td>Sheriff David Clarke Becomes An Internet Joke...</td>\n",
       "      <td>1</td>\n",
       "    </tr>\n",
       "    <tr>\n",
       "      <th>3</th>\n",
       "      <td>Trump Is So Obsessed He Even Has Obama’s Name...</td>\n",
       "      <td>1</td>\n",
       "    </tr>\n",
       "    <tr>\n",
       "      <th>4</th>\n",
       "      <td>Pope Francis Just Called Out Donald Trump Dur...</td>\n",
       "      <td>1</td>\n",
       "    </tr>\n",
       "  </tbody>\n",
       "</table>\n",
       "</div>"
      ],
      "text/plain": [
       "                                                text  authenticity\n",
       "0   Donald Trump Sends Out Embarrassing New Year’...             1\n",
       "1   Drunk Bragging Trump Staffer Started Russian ...             1\n",
       "2   Sheriff David Clarke Becomes An Internet Joke...             1\n",
       "3   Trump Is So Obsessed He Even Has Obama’s Name...             1\n",
       "4   Pope Francis Just Called Out Donald Trump Dur...             1"
      ]
     },
     "execution_count": 9,
     "metadata": {},
     "output_type": "execute_result"
    }
   ],
   "source": [
    "# remove other redundant columns\n",
    "news_df.drop(labels=['subject','date', 'Year','Month'], axis=1, inplace=True)\n",
    "news_df.head()"
   ]
  },
  {
   "cell_type": "code",
   "execution_count": 10,
   "metadata": {},
   "outputs": [
    {
     "data": {
      "text/html": [
       "<div>\n",
       "<style scoped>\n",
       "    .dataframe tbody tr th:only-of-type {\n",
       "        vertical-align: middle;\n",
       "    }\n",
       "\n",
       "    .dataframe tbody tr th {\n",
       "        vertical-align: top;\n",
       "    }\n",
       "\n",
       "    .dataframe thead th {\n",
       "        text-align: right;\n",
       "    }\n",
       "</style>\n",
       "<table border=\"1\" class=\"dataframe\">\n",
       "  <thead>\n",
       "    <tr style=\"text-align: right;\">\n",
       "      <th></th>\n",
       "      <th>text</th>\n",
       "      <th>authenticity</th>\n",
       "    </tr>\n",
       "  </thead>\n",
       "  <tbody>\n",
       "    <tr>\n",
       "      <th>11902</th>\n",
       "      <td>Ten bodies found in mass grave in Myanmar: arm...</td>\n",
       "      <td>0</td>\n",
       "    </tr>\n",
       "    <tr>\n",
       "      <th>8588</th>\n",
       "      <td>U.S. court rejects NJ Senator Menendez's bid t...</td>\n",
       "      <td>0</td>\n",
       "    </tr>\n",
       "    <tr>\n",
       "      <th>15503</th>\n",
       "      <td>WATCH HOW YOUNG HILLARY SUPPORTERS REACT WHEN ...</td>\n",
       "      <td>1</td>\n",
       "    </tr>\n",
       "    <tr>\n",
       "      <th>15307</th>\n",
       "      <td>China's Xi says will persist with Korean penin...</td>\n",
       "      <td>0</td>\n",
       "    </tr>\n",
       "    <tr>\n",
       "      <th>10464</th>\n",
       "      <td>LIBERAL HEADS EXPLODE! Trump Donates First Pay...</td>\n",
       "      <td>1</td>\n",
       "    </tr>\n",
       "  </tbody>\n",
       "</table>\n",
       "</div>"
      ],
      "text/plain": [
       "                                                    text  authenticity\n",
       "11902  Ten bodies found in mass grave in Myanmar: arm...             0\n",
       "8588   U.S. court rejects NJ Senator Menendez's bid t...             0\n",
       "15503  WATCH HOW YOUNG HILLARY SUPPORTERS REACT WHEN ...             1\n",
       "15307  China's Xi says will persist with Korean penin...             0\n",
       "10464  LIBERAL HEADS EXPLODE! Trump Donates First Pay...             1"
      ]
     },
     "execution_count": 10,
     "metadata": {},
     "output_type": "execute_result"
    }
   ],
   "source": [
    "news_df = news_df.sample(frac=1) # randomize \n",
    "news_df.sample(5)"
   ]
  },
  {
   "cell_type": "code",
   "execution_count": 9,
   "metadata": {},
   "outputs": [],
   "source": [
    "# Split the dataset into training and testing\n",
    "from sklearn.model_selection import train_test_split\n",
    "\n",
    "train_x, val_x, train_y, val_y = train_test_split(\n",
    "    news_df['text'].to_numpy(),\n",
    "    news_df['authenticity'].to_numpy(),\n",
    "    test_size=0.2,\n",
    "    random_state=40)"
   ]
  },
  {
   "cell_type": "code",
   "execution_count": 12,
   "metadata": {},
   "outputs": [
    {
     "data": {
      "text/plain": [
       "True"
      ]
     },
     "execution_count": 12,
     "metadata": {},
     "output_type": "execute_result"
    }
   ],
   "source": [
    "len(train_x) == len(train_y)"
   ]
  },
  {
   "attachments": {},
   "cell_type": "markdown",
   "metadata": {},
   "source": [
    "### Vectorization\n",
    "Vectorization is the process of converting string data into a numerical representation"
   ]
  },
  {
   "cell_type": "code",
   "execution_count": 19,
   "metadata": {},
   "outputs": [],
   "source": [
    "max_vocab_length = 10000 # maximum size of the vocabulary that we will keep (top 10000 most frequent words)\n",
    "max_length = 418\n",
    "text_vectorizer = TextVectorization(max_tokens=max_vocab_length,\n",
    "                                    output_mode='int',\n",
    "                                    output_sequence_length=max_length)"
   ]
  },
  {
   "cell_type": "code",
   "execution_count": 20,
   "metadata": {},
   "outputs": [],
   "source": [
    "# Fit the text vectorizer to the training text\n",
    "text_vectorizer.adapt(train_x)"
   ]
  },
  {
   "cell_type": "code",
   "execution_count": 44,
   "metadata": {},
   "outputs": [
    {
     "data": {
      "text/plain": [
       "<tf.Tensor: shape=(1, 418), dtype=int64, numpy=\n",
       "array([[  77, 8004,    2, 2814,    1,    0,    0,    0,    0,    0,    0,\n",
       "           0,    0,    0,    0,    0,    0,    0,    0,    0,    0,    0,\n",
       "           0,    0,    0,    0,    0,    0,    0,    0,    0,    0,    0,\n",
       "           0,    0,    0,    0,    0,    0,    0,    0,    0,    0,    0,\n",
       "           0,    0,    0,    0,    0,    0,    0,    0,    0,    0,    0,\n",
       "           0,    0,    0,    0,    0,    0,    0,    0,    0,    0,    0,\n",
       "           0,    0,    0,    0,    0,    0,    0,    0,    0,    0,    0,\n",
       "           0,    0,    0,    0,    0,    0,    0,    0,    0,    0,    0,\n",
       "           0,    0,    0,    0,    0,    0,    0,    0,    0,    0,    0,\n",
       "           0,    0,    0,    0,    0,    0,    0,    0,    0,    0,    0,\n",
       "           0,    0,    0,    0,    0,    0,    0,    0,    0,    0,    0,\n",
       "           0,    0,    0,    0,    0,    0,    0,    0,    0,    0,    0,\n",
       "           0,    0,    0,    0,    0,    0,    0,    0,    0,    0,    0,\n",
       "           0,    0,    0,    0,    0,    0,    0,    0,    0,    0,    0,\n",
       "           0,    0,    0,    0,    0,    0,    0,    0,    0,    0,    0,\n",
       "           0,    0,    0,    0,    0,    0,    0,    0,    0,    0,    0,\n",
       "           0,    0,    0,    0,    0,    0,    0,    0,    0,    0,    0,\n",
       "           0,    0,    0,    0,    0,    0,    0,    0,    0,    0,    0,\n",
       "           0,    0,    0,    0,    0,    0,    0,    0,    0,    0,    0,\n",
       "           0,    0,    0,    0,    0,    0,    0,    0,    0,    0,    0,\n",
       "           0,    0,    0,    0,    0,    0,    0,    0,    0,    0,    0,\n",
       "           0,    0,    0,    0,    0,    0,    0,    0,    0,    0,    0,\n",
       "           0,    0,    0,    0,    0,    0,    0,    0,    0,    0,    0,\n",
       "           0,    0,    0,    0,    0,    0,    0,    0,    0,    0,    0,\n",
       "           0,    0,    0,    0,    0,    0,    0,    0,    0,    0,    0,\n",
       "           0,    0,    0,    0,    0,    0,    0,    0,    0,    0,    0,\n",
       "           0,    0,    0,    0,    0,    0,    0,    0,    0,    0,    0,\n",
       "           0,    0,    0,    0,    0,    0,    0,    0,    0,    0,    0,\n",
       "           0,    0,    0,    0,    0,    0,    0,    0,    0,    0,    0,\n",
       "           0,    0,    0,    0,    0,    0,    0,    0,    0,    0,    0,\n",
       "           0,    0,    0,    0,    0,    0,    0,    0,    0,    0,    0,\n",
       "           0,    0,    0,    0,    0,    0,    0,    0,    0,    0,    0,\n",
       "           0,    0,    0,    0,    0,    0,    0,    0,    0,    0,    0,\n",
       "           0,    0,    0,    0,    0,    0,    0,    0,    0,    0,    0,\n",
       "           0,    0,    0,    0,    0,    0,    0,    0,    0,    0,    0,\n",
       "           0,    0,    0,    0,    0,    0,    0,    0,    0,    0,    0,\n",
       "           0,    0,    0,    0,    0,    0,    0,    0,    0,    0,    0,\n",
       "           0,    0,    0,    0,    0,    0,    0,    0,    0,    0,    0]],\n",
       "      dtype=int64)>"
      ]
     },
     "execution_count": 44,
     "metadata": {},
     "output_type": "execute_result"
    }
   ],
   "source": [
    "sample_sentence_vectorizer = \"Just checking the text vectorizer\"\n",
    "text_vectorizer([sample_sentence_vectorizer])"
   ]
  },
  {
   "cell_type": "code",
   "execution_count": 23,
   "metadata": {},
   "outputs": [
    {
     "name": "stdout",
     "output_type": "stream",
     "text": [
      "Original text;\n",
      "BREAKING: ANTI-TRUMP MUSLIM Known For Creating Drama To Post On You Tube Is Kicked Off Delta Flight…Screams Discrimination [VIDEO]YouTube celebrity Adam Saleh has accused Delta Air Lines of kicking him off flight because he spoke Arabic to his mom on the phone before takeoff.In a statement, Delta said:  Two customers were removed from this flight and later rebooked after a disturbance in the cabin resulted in more than 20 customers expressing their discomfort. We re conducting a full review to understand what transpired. We are taking allegations of discrimination very seriously; our culture requires treating others with respect. Saleh has more than 1.6 million subscribers to his TrueStoryASA YouTube channel, and more than 2.2 million subscribers to his Adam Saleh Vlogs YouTube channel. Saleh s YouTube channels are full of prank videos as well as videos about Muslim life, and he is a self-described  professional idiot. He said when he was speaking to his mom, a woman in the seat in front of him turned around and told him he ought to speak English. Saleh said he told her he can speak whatever language he likes, and her husband responded by standing up and screaming at him.Then about 20 people allegedly said they were uncomfortable with Saleh and his Arabic-speaking companion. The pair were approached by the captain, who Saleh said  seemed ashamed and embarassed  when he asked them to leave the plane because of the other passengers  complaints.In one video Saleh posted to Twitter that was retweeted 83,000 times in just 2 hours, Saleh can be seen getting escorted off the plane.  CBS NewsHere is the video Saleh posted to Twitter of he and his buddy being escorted off the plane:We got kicked out of a @Delta airplane because I spoke Arabic to my mom on the phone and with my friend slim  WTFFFFFFFF please spread pic.twitter.com/P5dQCE0qos  Adam Saleh (@omgAdamSaleh) December 21, 2016OOOPS! It appears this isn t the first time Saleh has created a disturbance on an airplane. He makes money every time someone clicks on one of his You Tube videos. The more controversial the video the more clicks. But do the passengers on these flights really think a Muslim man who intentionally creates unnecessary drama and attention to himself on their flight is funny? Is it okay for him to make the other customers uncomfortable so he can earn insane amounts of money on You Tube?Here are some previous posts by Saleh shared by Mark Dice on Twitter:It appears this Delta Airlines incident may be the result of another sick prank by the Muslim YouTuber. Look at his track record: pic.twitter.com/r78AleNPty  Mark Dice (@MarkDice) December 21, 2016Watch outrage expressed by You tuber Muslim Adam Saleh Vlog over being checked by a Muslim security officer as he was going through airport security at Heathrow Airport in London. According to Saleh, it s apparently not okay for a MUSLIM who is working at airport security to check another MUSLIM. Who knew?Crying discrimination isn t anything new to the attention obsessed Saleh who tells his viewers how  worried  he is about our  racist  President-elect Donald J. Trump. It was viewed over 1 million times:\\n\n",
      "\n",
      "Vectorized Version:\n",
      "\n",
      "[[1294 1883  330  427   10 2112 5669    3  333    9   43    1   12 3787\n",
      "   217 5310    1 1970    1 4177 3102 4731   22  516 5310  508 1999    4\n",
      "  6922   78  217 2018   91   13  828 6578    3   20 3916    9    2  981\n",
      "   113    1    5  178 5310   14   98 2520   47 1560   26   28 2018    6\n",
      "   352    1   50    5    1    7    2    1 3847    7   49   79  486 2520\n",
      "  4375   41    1   36  175 3841    5  533  863    3 1050   58    1   36\n",
      "    29  422  753    4 1970  144 1589   69 2008 2428 5196  466   17 1098\n",
      "  4731   22   49   79 1067  177    1    3   20    1 2095 2478    6   49\n",
      "    79 1282  177    1    3   20 3102 4731    1 2095 2478 4731   11 2095\n",
      "  5947   29  533    4    1 2162   19  194   19 2162   38  330  500    6\n",
      "    13   12    5 7651 2786 4888   13   14   60   13   18  660    3   20\n",
      "  3916    5  411    7    2 1629    7  841    4   78  872  244    6   87\n",
      "    78   13 5265    3  956 2670 4731   14   13   87   53   13   75  956\n",
      "  1672 1515   13 3013    6   53 1174 1161   21 1219   64    6 4394   27\n",
      "     1   38  486   46 1763   14   33   47 4258   17 4731    6   20    1\n",
      "     1    2 4148   47 4909   21    2 5409   30 4731   14 1881 5488    6\n",
      "     1   60   13  209   94    3  643    2 2307   91    4    2   82 3899\n",
      "     1   54  190 4731  904    3  266    8   18 6200    1  270    7   77\n",
      "   675  780 4731   75   23  341  561 6364  217    2 2307 2077    1   12\n",
      "     2  190 4731  904    3  266    4   13    6   20 9897  110 6364  217\n",
      "     2    1  320 3787   55    4    5 5310 9779   91   37  828 6578    3\n",
      "   176 3916    9    2  981    6   17  176 1298 5621    1 1730 2039    1\n",
      "  3102 4731    1  610 1382    1   16 1029   28  663   44    2  105  100\n",
      "  4731   22  965    5    1    9   31 9779   13  642  277  260  100  552\n",
      "     1    9   54    4   20   43    1 2162    2   49 1466    2  190    2\n",
      "    49    1   34   92    2 3899    9  145 2728  259  162    5  330  242\n",
      "    30 4654 5026 5166 5669    6 1164    3  384    9   41 2018   12 2807\n",
      "    12   16 2667   10   78    3  131    2   82 2520 4258   80   13   75\n",
      "  5353 3285 3614    4  277    9   43    1   29   83 1087 1895   21 4731\n",
      "  1592   21  929    1    9    1 1029   28 5310 3149  973  118]]\n"
     ]
    }
   ],
   "source": [
    "import random\n",
    "\n",
    "random_sentence = random.choice(train_x)\n",
    "\n",
    "print(f\"Original text;\\n{random_sentence}\\\\n\\n\\nVectorized Version:\\n\\n{text_vectorizer([random_sentence])}\")"
   ]
  },
  {
   "attachments": {},
   "cell_type": "markdown",
   "metadata": {},
   "source": [
    "### Embedding\n",
    "Embedding layer enables us to convert each word into a fixed length vector of defined size. It is an alternative to one-hot encoding, which involved the use of dimensionality reduction. The resultant vector is a dense one with having real values instead of just 0’s and 1’s. The fixed length of word vectors helps us to represent words in a better way along with reduced dimensions.\n",
    "\n",
    "one hot encoding - each word is coded with an index, which is represented by one-hot. If we use one-hot encoding on words in textual data, we will have a dummy feature for each word, which means 10,000 features for a vocabulary of 10,000 words. Not a feasible approach if scale of corpus becomes large."
   ]
  },
  {
   "cell_type": "code",
   "execution_count": 24,
   "metadata": {},
   "outputs": [],
   "source": [
    "from tensorflow.keras import layers\n",
    "vector_length = 128\n",
    "embedding = layers.Embedding(input_dim=max_vocab_length,\n",
    "                             output_dim=vector_length,\n",
    "                             embeddings_initializer='uniform',\n",
    "                             input_length=max_length)"
   ]
  },
  {
   "cell_type": "code",
   "execution_count": 25,
   "metadata": {},
   "outputs": [
    {
     "name": "stdout",
     "output_type": "stream",
     "text": [
      "Original text:\n",
      " Obama SHAMES The Hell Out Of Trump And His Heartless Fans By Meeting This Young BoyPresident Obama has shown he s a human being with compassion time and again. Most recently, he met a 12-year old boy with severe cerebral palsy who had just been at a Trump rally the day before. What happened to him at the rally is exactly why Trump fans are deplorable, but Obama showed them how to act like humans, even if they aren t capable of it.J.J. Holmes braved one of Trump s rallies in order to protest the way that Trump makes fun of people with disabilities. Since he was a protester, he was very unwelcome already, but when Trump identified him and started saying,  Get them out,  security began trying to usher them away while Trump s deplorables pushed and kicked his wheelchair, according to J.J. s mother, Alison.Alison spoke to a pool reporter from the White House, saying,  We were put out by security,  and  The crowd started chanting  U-S-A  and pushing his wheelchair.  As she said that, her son kept saying,  I hate Donald Trump, I hate Donald Trump,  through his vocalization device.The Trumpkins proved beyond any doubt that they have a black abyss where their hearts should be with that vile act.Trump has come under fire before for mocking disabled people, most specifically when he made fun of Serge Kovalesky, who works for The New York Times and suffers from a chronic condition that s immobilized his right arm. Of course, he denied he was making fun of anyone, let alone someone with a disability, but that s par for the course for Trump.He and his loyal subjects literally care nothing about anyone but themselves. And his fans are deluded   he ll hurt them as much as he ll hurt the rest of the country in his quest to prove his  legitimacy  and gather power. Would Trump ever do this?Yesterday, this young man was kicked out of a Trump rally. As he was leaving, people kicked at his wheelchair. Today, he met his President. pic.twitter.com/VI4g2tKANG  Steve Schale (@steveschale) November 6, 2016Doubtful. Very, very doubtful.Featured image via screen capture from embedded tweet\n",
      "\n",
      "Embedd version: \n",
      "\n",
      "g [[[ 0.03209506 -0.04269404  0.02253493 ... -0.01242059  0.00151719\n",
      "   -0.04990083]\n",
      "  [ 0.03869775 -0.01843526 -0.04435537 ...  0.03014648 -0.03189005\n",
      "    0.04763616]\n",
      "  [-0.01257253 -0.03551699 -0.04898043 ...  0.04119061 -0.04393944\n",
      "   -0.02353085]\n",
      "  ...\n",
      "  [-0.02493705  0.02098895 -0.03163656 ... -0.01559256  0.00423993\n",
      "    0.0312754 ]\n",
      "  [-0.02493705  0.02098895 -0.03163656 ... -0.01559256  0.00423993\n",
      "    0.0312754 ]\n",
      "  [-0.02493705  0.02098895 -0.03163656 ... -0.01559256  0.00423993\n",
      "    0.0312754 ]]]\n"
     ]
    }
   ],
   "source": [
    "random_sentence_2 = random.choice(train_x)\n",
    "print(f\"Original text:\\n{random_sentence_2}\\n\\nEmbedd version: \\n\\ng {embedding(text_vectorizer([random_sentence_2]))}\")"
   ]
  },
  {
   "attachments": {},
   "cell_type": "markdown",
   "metadata": {},
   "source": [
    "### Using the LSTM Model\n",
    "\n",
    "add the text vectorizer and embedding layer into the LSTM model"
   ]
  },
  {
   "cell_type": "code",
   "execution_count": 26,
   "metadata": {},
   "outputs": [],
   "source": [
    "# Create an LSTM model\n",
    "from tensorflow.keras import layers\n",
    "inputs = layers.Input(shape=(1,), dtype='string')\n",
    "\n",
    "# Pass inputs to text_vectorizer(convert text into numbers)\n",
    "x = text_vectorizer(inputs) \n",
    "\n",
    "# Convert text_vectorizer layer into embedding layer\n",
    "x = embedding(x)\n",
    "\n",
    "# Model \n",
    "x = layers.LSTM(64)(x)\n",
    "\n",
    "# output\n",
    "outputs = layers.Dense(1, activation='sigmoid')(x)\n",
    "\n",
    "# Pass inputs and outputs to our model\n",
    "model = tf.keras.Model(inputs, outputs, name='model_LSTM')"
   ]
  },
  {
   "cell_type": "code",
   "execution_count": 27,
   "metadata": {},
   "outputs": [
    {
     "name": "stdout",
     "output_type": "stream",
     "text": [
      "Model: \"model_LSTM\"\n",
      "_________________________________________________________________\n",
      " Layer (type)                Output Shape              Param #   \n",
      "=================================================================\n",
      " input_1 (InputLayer)        [(None, 1)]               0         \n",
      "                                                                 \n",
      " text_vectorization (TextVec  (None, 418)              0         \n",
      " torization)                                                     \n",
      "                                                                 \n",
      " embedding_1 (Embedding)     (None, 418, 128)          1280000   \n",
      "                                                                 \n",
      " lstm (LSTM)                 (None, 64)                49408     \n",
      "                                                                 \n",
      " dense (Dense)               (None, 1)                 65        \n",
      "                                                                 \n",
      "=================================================================\n",
      "Total params: 1,329,473\n",
      "Trainable params: 1,329,473\n",
      "Non-trainable params: 0\n",
      "_________________________________________________________________\n"
     ]
    }
   ],
   "source": [
    "model.summary()"
   ]
  },
  {
   "cell_type": "code",
   "execution_count": 28,
   "metadata": {},
   "outputs": [],
   "source": [
    "# Compiling the model\n",
    "model.compile(loss='binary_crossentropy',\n",
    "              optimizer=tf.keras.optimizers.Adam(),\n",
    "              metrics=['accuracy'])"
   ]
  },
  {
   "cell_type": "code",
   "execution_count": 29,
   "metadata": {},
   "outputs": [
    {
     "name": "stdout",
     "output_type": "stream",
     "text": [
      "Epoch 1/20\n",
      "1123/1123 [==============================] - 302s 264ms/step - loss: 0.3954 - accuracy: 0.8365 - val_loss: 0.2344 - val_accuracy: 0.9323\n",
      "Epoch 2/20\n",
      "1123/1123 [==============================] - 290s 258ms/step - loss: 0.2711 - accuracy: 0.9014 - val_loss: 0.1618 - val_accuracy: 0.9523\n",
      "Epoch 3/20\n",
      "1123/1123 [==============================] - 309s 275ms/step - loss: 0.1826 - accuracy: 0.9441 - val_loss: 0.1368 - val_accuracy: 0.9604\n",
      "Epoch 4/20\n",
      "1123/1123 [==============================] - 446s 397ms/step - loss: 0.2342 - accuracy: 0.9289 - val_loss: 0.2244 - val_accuracy: 0.9592\n",
      "Epoch 5/20\n",
      "1123/1123 [==============================] - 449s 399ms/step - loss: 0.1500 - accuracy: 0.9581 - val_loss: 0.1111 - val_accuracy: 0.9677\n",
      "Epoch 6/20\n",
      "1123/1123 [==============================] - 347s 309ms/step - loss: 0.1496 - accuracy: 0.9508 - val_loss: 0.0724 - val_accuracy: 0.9754\n",
      "Epoch 7/20\n",
      "1123/1123 [==============================] - 301s 268ms/step - loss: 0.0417 - accuracy: 0.9898 - val_loss: 0.0353 - val_accuracy: 0.9882\n",
      "Epoch 8/20\n",
      "1123/1123 [==============================] - 295s 263ms/step - loss: 0.0270 - accuracy: 0.9935 - val_loss: 0.0248 - val_accuracy: 0.9922\n",
      "Epoch 9/20\n",
      "1123/1123 [==============================] - 319s 284ms/step - loss: 0.0372 - accuracy: 0.9871 - val_loss: 0.0172 - val_accuracy: 0.9937\n",
      "Epoch 10/20\n",
      "1123/1123 [==============================] - 463s 412ms/step - loss: 0.0082 - accuracy: 0.9982 - val_loss: 0.0229 - val_accuracy: 0.9950\n",
      "Epoch 11/20\n",
      "1123/1123 [==============================] - 457s 407ms/step - loss: 0.0055 - accuracy: 0.9990 - val_loss: 0.0183 - val_accuracy: 0.9954\n",
      "Epoch 12/20\n",
      "1123/1123 [==============================] - 452s 403ms/step - loss: 0.0039 - accuracy: 0.9994 - val_loss: 0.0205 - val_accuracy: 0.9952\n",
      "Epoch 13/20\n",
      "1123/1123 [==============================] - 445s 396ms/step - loss: 0.0055 - accuracy: 0.9990 - val_loss: 0.0297 - val_accuracy: 0.9929\n",
      "Epoch 14/20\n",
      "1123/1123 [==============================] - 461s 411ms/step - loss: 0.0040 - accuracy: 0.9993 - val_loss: 0.0210 - val_accuracy: 0.9945\n",
      "Epoch 15/20\n",
      "1123/1123 [==============================] - 448s 399ms/step - loss: 0.0038 - accuracy: 0.9991 - val_loss: 0.0205 - val_accuracy: 0.9953\n",
      "Epoch 16/20\n",
      "1123/1123 [==============================] - 461s 411ms/step - loss: 0.0023 - accuracy: 0.9997 - val_loss: 0.0193 - val_accuracy: 0.9953\n",
      "Epoch 17/20\n",
      "1123/1123 [==============================] - 437s 389ms/step - loss: 0.0014 - accuracy: 0.9999 - val_loss: 0.0206 - val_accuracy: 0.9952\n",
      "Epoch 18/20\n",
      "1123/1123 [==============================] - 434s 387ms/step - loss: 0.0014 - accuracy: 0.9999 - val_loss: 0.0236 - val_accuracy: 0.9950\n",
      "Epoch 19/20\n",
      "1123/1123 [==============================] - 449s 400ms/step - loss: 0.0013 - accuracy: 0.9999 - val_loss: 0.0250 - val_accuracy: 0.9953\n",
      "Epoch 20/20\n",
      "1123/1123 [==============================] - 449s 400ms/step - loss: 0.0014 - accuracy: 0.9998 - val_loss: 0.0342 - val_accuracy: 0.9925\n"
     ]
    }
   ],
   "source": [
    "EPOCH = 20\n",
    "# Fit the model\n",
    "model_history = model.fit(train_x,\n",
    "                          train_y,\n",
    "                          epochs=EPOCH,\n",
    "                          validation_data=(val_x, val_y))"
   ]
  },
  {
   "cell_type": "code",
   "execution_count": 30,
   "metadata": {},
   "outputs": [
    {
     "data": {
      "text/plain": [
       "<matplotlib.legend.Legend at 0x12d0645ee48>"
      ]
     },
     "execution_count": 30,
     "metadata": {},
     "output_type": "execute_result"
    },
    {
     "data": {
      "image/png": "[encoded data removed]",
      "text/plain": [
       "<Figure size 1500x800 with 2 Axes>"
      ]
     },
     "metadata": {},
     "output_type": "display_data"
    }
   ],
   "source": [
    "# Plotting training & validation error and loss function over epochs\n",
    "plt.figure(1, figsize = (15,8)) \n",
    "    \n",
    "plt.subplot(221)  \n",
    "plt.plot(model_history.history['accuracy'])  \n",
    "plt.plot(model_history.history['val_accuracy'])  \n",
    "plt.title('model accuracy')  \n",
    "plt.ylabel('accuracy')  \n",
    "plt.xlabel('epoch')  \n",
    "plt.legend(['train', 'valid']) \n",
    "    \n",
    "plt.subplot(222)  \n",
    "plt.plot(model_history.history['loss'])  \n",
    "plt.plot(model_history.history['val_loss'])  \n",
    "plt.title('model loss')  \n",
    "plt.ylabel('loss')  \n",
    "plt.xlabel('epoch')  \n",
    "plt.legend(['train', 'valid']) "
   ]
  },
  {
   "cell_type": "code",
   "execution_count": 33,
   "metadata": {},
   "outputs": [
    {
     "name": "stdout",
     "output_type": "stream",
     "text": [
      "281/281 [==============================] - 26s 90ms/step\n"
     ]
    },
    {
     "data": {
      "text/plain": [
       "array([[2.54886108e-04],\n",
       "       [5.57662606e-05],\n",
       "       [1.06782529e-04],\n",
       "       [5.24204115e-05],\n",
       "       [9.99865830e-01],\n",
       "       [2.85056361e-04],\n",
       "       [9.99932349e-01],\n",
       "       [9.92611408e-01],\n",
       "       [1.17919095e-04],\n",
       "       [3.53754091e-04]], dtype=float32)"
      ]
     },
     "execution_count": 33,
     "metadata": {},
     "output_type": "execute_result"
    }
   ],
   "source": [
    "model_prediction = model.predict(val_x)\n",
    "model_prediction[:10]"
   ]
  },
  {
   "cell_type": "code",
   "execution_count": 32,
   "metadata": {},
   "outputs": [
    {
     "data": {
      "text/plain": [
       "<tf.Tensor: shape=(10,), dtype=float32, numpy=array([0., 0., 0., 0., 1., 0., 1., 1., 0., 0.], dtype=float32)>"
      ]
     },
     "execution_count": 32,
     "metadata": {},
     "output_type": "execute_result"
    }
   ],
   "source": [
    "# Convert model prediction to our val_labels (0,1)\n",
    "model_preds = tf.squeeze(tf.round(model_prediction))\n",
    "model_preds[:10]"
   ]
  },
  {
   "cell_type": "code",
   "execution_count": 34,
   "metadata": {},
   "outputs": [
    {
     "name": "stdout",
     "output_type": "stream",
     "text": [
      "Accuracy Score: 0.9925389755011136\n",
      "Recall Score : 0.9888388066108607\n",
      "Precsion Score : 0.9967546516659455\n",
      "f1 Score : 0.9927809503286283\n"
     ]
    }
   ],
   "source": [
    "# Evaluation metrics\n",
    "from sklearn.metrics import accuracy_score, recall_score,precision_score, f1_score\n",
    "\n",
    "print(f\"Accuracy Score: {accuracy_score(val_y,model_preds)}\")\n",
    "print(f\"Recall Score : {recall_score(val_y, model_preds)}\")\n",
    "print(f\"Precsion Score : {precision_score(val_y, model_preds)}\")\n",
    "print(f\"f1 Score : {f1_score(val_y, model_preds)}\")"
   ]
  },
  {
   "attachments": {},
   "cell_type": "markdown",
   "metadata": {},
   "source": [
    "## Term Frequency - Inverse Document Frequency (TF-IDF)\n",
    "### Using Tf-Idf vectorizer to weigh importance of each words"
   ]
  },
  {
   "cell_type": "code",
   "execution_count": 59,
   "metadata": {},
   "outputs": [],
   "source": [
    "## Applying the count vectorizer first (count the occurence of rwach words)\n",
    "\n",
    "from sklearn.feature_extraction.text import CountVectorizer\n",
    "\n",
    "cntvect = CountVectorizer(stop_words='english')\n",
    "\n",
    "c_train_x = cntvect.fit_transform(train_x)\n",
    "c_val_x = cntvect.transform(val_x)\n"
   ]
  },
  {
   "cell_type": "code",
   "execution_count": 28,
   "metadata": {},
   "outputs": [
    {
     "data": {
      "text/plain": [
       "<8980x110766 sparse matrix of type '<class 'numpy.int64'>'\n",
       "\twith 1358844 stored elements in Compressed Sparse Row format>"
      ]
     },
     "execution_count": 28,
     "metadata": {},
     "output_type": "execute_result"
    }
   ],
   "source": [
    "c_val_x"
   ]
  },
  {
   "cell_type": "code",
   "execution_count": 29,
   "metadata": {},
   "outputs": [],
   "source": [
    "## Applying the Tf-Idf transformer\n",
    "\n",
    "from sklearn.feature_extraction.text import TfidfTransformer\n",
    "tf_trans = TfidfTransformer(use_idf=True, norm='l1')\n",
    "trainXtf = tf_trans.fit_transform(c_train_x)\n",
    "testXtf = tf_trans.transform(c_val_x)"
   ]
  },
  {
   "attachments": {},
   "cell_type": "markdown",
   "metadata": {},
   "source": [
    "### Using naive bayes classifier to predict the class given the features"
   ]
  },
  {
   "cell_type": "code",
   "execution_count": 30,
   "metadata": {},
   "outputs": [
    {
     "data": {
      "text/plain": [
       "0.9293986636971047"
      ]
     },
     "execution_count": 30,
     "metadata": {},
     "output_type": "execute_result"
    }
   ],
   "source": [
    "mmodel_tf = naive_bayes.MultinomialNB(alpha=0.05)\n",
    "mmodel_tf.fit(trainXtf, train_y)\n",
    "\n",
    "# prediction\n",
    "predYtf = mmodel_tf.predict(testXtf)\n",
    "\n",
    "# calculate accuracy\n",
    "acc = metrics.accuracy_score(val_y, predYtf)\n",
    "acc"
   ]
  },
  {
   "attachments": {},
   "cell_type": "markdown",
   "metadata": {},
   "source": [
    "### Using pipeline to streamline process"
   ]
  },
  {
   "cell_type": "code",
   "execution_count": 37,
   "metadata": {},
   "outputs": [
    {
     "data": {
      "text/plain": [
       "Pipeline(steps=[('bow', CountVectorizer()), ('tfid', TfidfTransformer()),\n",
       "                ('model', MultinomialNB(alpha=0.05))])"
      ]
     },
     "execution_count": 37,
     "metadata": {},
     "output_type": "execute_result"
    }
   ],
   "source": [
    "from sklearn.feature_extraction.text import TfidfTransformer\n",
    "from sklearn.pipeline import Pipeline\n",
    "\n",
    "pipe = Pipeline([('bow', CountVectorizer()), \n",
    "                 ('tfid', TfidfTransformer()),  \n",
    "                 ('model', naive_bayes.MultinomialNB(alpha=0.05))])\n",
    "pipe.fit(train_x, train_y)"
   ]
  },
  {
   "cell_type": "code",
   "execution_count": 35,
   "metadata": {},
   "outputs": [],
   "source": [
    "pred_piped_y = pipe.predict(val_x)"
   ]
  },
  {
   "cell_type": "code",
   "execution_count": 36,
   "metadata": {},
   "outputs": [
    {
     "data": {
      "text/plain": [
       "0.9275055679287305"
      ]
     },
     "execution_count": 36,
     "metadata": {},
     "output_type": "execute_result"
    }
   ],
   "source": [
    "metrics.accuracy_score(val_y, pred_piped_y)"
   ]
  },
  {
   "attachments": {},
   "cell_type": "markdown",
   "metadata": {},
   "source": [
    "### Finetuning the model by adjusting parameters"
   ]
  },
  {
   "cell_type": "code",
   "execution_count": 43,
   "metadata": {},
   "outputs": [
    {
     "name": "stdout",
     "output_type": "stream",
     "text": [
      "best alpha= 2.0235896477251556e-05 \n",
      "best acc= 0.9492204899777282\n"
     ]
    }
   ],
   "source": [
    "# adjusting the alpha (smoothing parameter)\n",
    "import math\n",
    "alphas = np.logspace(-5,0,50)\n",
    "alphas\n",
    "\n",
    "accs = [] # accuracies\n",
    "for a in alphas:\n",
    "    pipe = Pipeline([('bow', CountVectorizer()), \n",
    "                 ('tfid', TfidfTransformer()),  \n",
    "                 ('model', naive_bayes.MultinomialNB(alpha=a))])\n",
    "    pipe.fit(train_x, train_y)\n",
    "    pred_y = pipe.predict(val_x)\n",
    "    accuracy_score = metrics.accuracy_score(val_y, pred_y)\n",
    "    accs.append(accuracy_score)\n",
    "\n",
    "bestalphai = np.argmax(accs)\n",
    "bestalpha = alphas[bestalphai]\n",
    "bestacc  = accs[bestalphai]\n",
    "print(\"best alpha=\", bestalpha, \"\\nbest acc=\", bestacc)\n"
   ]
  },
  {
   "cell_type": "code",
   "execution_count": 44,
   "metadata": {},
   "outputs": [
    {
     "data": {
      "text/plain": [
       "Text(0.5, 1.0, 'accuracy versus alpha')"
      ]
     },
     "execution_count": 44,
     "metadata": {},
     "output_type": "execute_result"
    },
    {
     "data": {
      "image/png": "[encoded data removed]",
      "text/plain": [
       "<Figure size 640x480 with 1 Axes>"
      ]
     },
     "metadata": {},
     "output_type": "display_data"
    }
   ],
   "source": [
    "plt.figure()\n",
    "plt.semilogx(alphas, accs)\n",
    "plt.semilogx(bestalpha, bestacc, 'kx')\n",
    "plt.xlabel('alpha'); plt.ylabel('accuracy')     \n",
    "plt.grid(True)  \n",
    "plt.title('accuracy versus alpha')"
   ]
  },
  {
   "cell_type": "code",
   "execution_count": 45,
   "metadata": {},
   "outputs": [
    {
     "name": "stdout",
     "output_type": "stream",
     "text": [
      "acc score with norm l1: 0.9390868596881959\n",
      "acc score with norm l2: 0.9390868596881959\n"
     ]
    }
   ],
   "source": [
    "# Apply the best alpha, adjust norm \n",
    "pipe_l1 = Pipeline([('bow', CountVectorizer()), \n",
    "                 ('tfid', TfidfTransformer(norm = 'l1')),  \n",
    "                 ('model', naive_bayes.MultinomialNB(alpha=bestalpha))])\n",
    "pipe_l1.fit(train_x, train_y)\n",
    "pred_y_1 = pipe.predict(val_x)\n",
    "print('acc score with norm l1:',metrics.accuracy_score(val_y, pred_y_1))\n",
    "\n",
    "\n",
    "pipe_l2 = Pipeline([('bow', CountVectorizer()), \n",
    "                 ('tfid', TfidfTransformer(norm = 'l2')),  \n",
    "                 ('model', naive_bayes.MultinomialNB(alpha=bestalpha))])\n",
    "pipe_l2.fit(train_x, train_y)\n",
    "pred_y_2 = pipe.predict(val_x)\n",
    "print('acc score with norm l2:',metrics.accuracy_score(val_y, pred_y_2))\n"
   ]
  },
  {
   "cell_type": "code",
   "execution_count": 55,
   "metadata": {},
   "outputs": [
    {
     "name": "stdout",
     "output_type": "stream",
     "text": [
      "acc score: 0.9467706013363029\n"
     ]
    }
   ],
   "source": [
    "pipe = Pipeline([('bow', CountVectorizer(stop_words='english')), \n",
    "                 ('tfid', TfidfTransformer()),  \n",
    "                 ('model', naive_bayes.MultinomialNB(alpha=bestalpha))])\n",
    "pipe.fit(train_x, train_y)\n",
    "pred_y = pipe.predict(val_x)\n",
    "print('acc score:',metrics.accuracy_score(val_y, pred_y))"
   ]
  },
  {
   "attachments": {},
   "cell_type": "markdown",
   "metadata": {},
   "source": [
    "### Effect of vocabulary size"
   ]
  },
  {
   "cell_type": "code",
   "execution_count": 57,
   "metadata": {},
   "outputs": [
    {
     "name": "stdout",
     "output_type": "stream",
     "text": [
      "best number of features= 100000 \n",
      "best acc= 0.9497772828507796\n"
     ]
    }
   ],
   "source": [
    "maxfeatures = [10000,20000,50000,75000,100000]\n",
    "acc_f = []\n",
    "for f in maxfeatures:\n",
    "    pipe_f = Pipeline([('bow', CountVectorizer(max_features= f)), \n",
    "                 ('tfid', TfidfTransformer()),  \n",
    "                 ('model', naive_bayes.MultinomialNB(alpha=bestalpha))])\n",
    "    pipe_f.fit(train_x, train_y)\n",
    "    pred_y_f = pipe_f.predict(val_x)\n",
    "    acc_f.append(metrics.accuracy_score(val_y, pred_y_f))\n",
    "    \n",
    "\n",
    "bestfi = np.argmax(acc_f)\n",
    "bestf = maxfeatures[bestfi]\n",
    "bestacc_f  = acc_f[bestfi]\n",
    "print(\"best number of features=\", bestf, \"\\nbest acc=\", bestacc_f)\n",
    "\n"
   ]
  },
  {
   "cell_type": "code",
   "execution_count": 58,
   "metadata": {},
   "outputs": [
    {
     "data": {
      "text/plain": [
       "Text(0.5, 1.0, 'accuracy versus max features')"
      ]
     },
     "execution_count": 58,
     "metadata": {},
     "output_type": "execute_result"
    },
    {
     "data": {
      "image/png": "[encoded data removed]",
      "text/plain": [
       "<Figure size 640x480 with 1 Axes>"
      ]
     },
     "metadata": {},
     "output_type": "display_data"
    }
   ],
   "source": [
    "plt.figure()\n",
    "plt.semilogx(maxfeatures, acc_f)\n",
    "plt.semilogx(bestf, bestacc_f, 'kx')\n",
    "plt.xlabel('features'); plt.ylabel('accuracy')     \n",
    "plt.grid(True)  \n",
    "plt.title('accuracy versus max features')"
   ]
  },
  {
   "attachments": {},
   "cell_type": "markdown",
   "metadata": {},
   "source": [
    "the best scenario is to train the model with all the features, as long as it runtime does not take too long"
   ]
  },
  {
   "cell_type": "code",
   "execution_count": null,
   "metadata": {},
   "outputs": [],
   "source": []
  }
 ],
 "metadata": {
  "kernelspec": {
   "display_name": "Python 3.8.5 ('.venv': venv)",
   "language": "python",
   "name": "python3"
  },
  "language_info": {
   "codemirror_mode": {
    "name": "ipython",
    "version": 3
   },
   "file_extension": ".py",
   "mimetype": "text/x-python",
   "name": "python",
   "nbconvert_exporter": "python",
   "pygments_lexer": "ipython3",
   "version": "3.7.8"
  },
  "orig_nbformat": 4,
  "vscode": {
   "interpreter": {
    "hash": "4ccb11d2e9b15afcc4e0bb60009bffff812a7f5185c72a384a7dfa76edc5a571"
   }
  }
 },
 "nbformat": 4,
 "nbformat_minor": 2
}
